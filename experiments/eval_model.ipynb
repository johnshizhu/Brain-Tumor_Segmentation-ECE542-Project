{
 "cells": [
  {
   "cell_type": "code",
   "execution_count": null,
   "metadata": {},
   "outputs": [],
   "source": [
    "import sys\n",
    "sys.path.insert(0, '../')\n",
    "\n",
    "import matplotlib.pyplot as plt\n",
    "import nibabel as nib\n",
    "import numpy as np\n",
    "from matplotlib.patches import Patch\n",
    "\n",
    "from utils.data_utils import BratsDataset3D\n",
    "from utils.predict import ModelPredict"
   ]
  },
  {
   "cell_type": "code",
   "execution_count": null,
   "metadata": {},
   "outputs": [],
   "source": [
    "model_path = '../model.bin'\n",
    "model = ModelPredict(model_path)"
   ]
  },
  {
   "cell_type": "code",
   "execution_count": null,
   "metadata": {},
   "outputs": [],
   "source": [
    "scan_dir = r'/Users/colinodowd/Downloads/nii/BraTS2020_TrainingData/MICCAI_BraTS2020_TrainingData/'\n",
    "scan_type = 'flair'\n",
    "scan_index = 0\n",
    "\n",
    "[input_tensor, label_tensor] = BratsDataset3D(scan_dir, scan_type).__getitem__(scan_index)\n",
    "\n",
    "model_output = model.predict(input_tensor)\n",
    "pred_np = model_output.squeeze().numpy()  \n",
    "label_np = label_tensor.squeeze().numpy()  "
   ]
  },
  {
   "cell_type": "code",
   "execution_count": null,
   "metadata": {},
   "outputs": [],
   "source": [
    "scan_data = model.get_scan()\n",
    "\n",
    "num_slices = 5\n",
    "middle_slice = 75  # Adjust as needed\n",
    "num_rows = 1\n",
    "num_cols = num_slices\n",
    "\n",
    "plt.figure(figsize=(20, 5))\n",
    "\n",
    "for i in range(num_slices):\n",
    "    current_slice = middle_slice + 3 * i\n",
    "        \n",
    "    scan_slice = scan_data[:, :, current_slice]\n",
    "    pred_slice = pred_np[:, :, current_slice]\n",
    "    actual_slice = label_np[:, :, current_slice]\n",
    "    # TODO\n",
    "    plt.subplot(num_rows, num_cols, i + 1)\n",
    "    plt.imshow(pred_np[:, :, middle_slice + 3 * i], cmap='gray') \n",
    "    # TODO\n",
    "    plt.title('Middle Slice + {}'.format(3 * i))\n",
    "    plt.axis('off')\n",
    "plt.tight_layout()\n",
    "plt.show()"
   ]
  }
 ],
 "metadata": {
  "kernelspec": {
   "display_name": "Python 3",
   "language": "python",
   "name": "python3"
  },
  "language_info": {
   "codemirror_mode": {
    "name": "ipython",
    "version": 3
   },
   "file_extension": ".py",
   "mimetype": "text/x-python",
   "name": "python",
   "nbconvert_exporter": "python",
   "pygments_lexer": "ipython3",
   "version": "3.12.2"
  }
 },
 "nbformat": 4,
 "nbformat_minor": 2
}
