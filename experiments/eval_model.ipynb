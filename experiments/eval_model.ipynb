{
 "cells": [
  {
   "cell_type": "code",
   "execution_count": 22,
   "metadata": {},
   "outputs": [],
   "source": [
    "import sys\n",
    "sys.path.insert(0, '../')\n",
    "import matplotlib.pyplot as plt\n",
    "import nibabel as nib\n",
    "import numpy as np\n",
    "import torch\n",
    "from matplotlib.patches import Patch\n",
    "from utils.data_utils import BratsDataset3D\n",
    "from utils.predict import ModelPredict"
   ]
  },
  {
   "cell_type": "code",
   "execution_count": 23,
   "metadata": {},
   "outputs": [],
   "source": [
    "device = torch.device('cuda' if torch.cuda.is_available() else 'cpu')\n",
    "model_path = r'C:\\Users\\johns\\OneDrive\\Desktop\\Models\\ECE542_Project_Brain_Segmentation\\20K_model_10_epochs.pth'\n",
    "model = torch.load(model_path)"
   ]
  },
  {
   "cell_type": "code",
   "execution_count": 24,
   "metadata": {},
   "outputs": [],
   "source": [
    "scan_dir = r'C:\\Users\\johns\\OneDrive\\Desktop\\Datasets\\ECE-542\\brain-tumor-segmentation(nii)\\BraTS2020_TrainingData\\MICCAI_BraTS2020_TrainingData'\n",
    "scan_index = 0\n",
    "dataset = BratsDataset3D(scan_dir)"
   ]
  },
  {
   "cell_type": "code",
   "execution_count": 27,
   "metadata": {},
   "outputs": [],
   "source": [
    "[input_tensor, label_tensor] = dataset.__getitem__(scan_index)\n",
    "\n",
    "# Move input to GPU\n",
    "input_tensor = input_tensor.to(device)\n",
    "input_tensor = torch.unsqueeze(input_tensor, 0)"
   ]
  },
  {
   "cell_type": "code",
   "execution_count": null,
   "metadata": {},
   "outputs": [],
   "source": [
    "model_output = model(input_tensor)\n",
    "print(max(model_output))"
   ]
  },
  {
   "cell_type": "code",
   "execution_count": null,
   "metadata": {},
   "outputs": [],
   "source": [
    "scan_np  = input_tensor.squeeze.numpy()\n",
    "pred_np  = model_output.squeeze().numpy()  \n",
    "label_np = label_tensor.squeeze().numpy()  "
   ]
  },
  {
   "cell_type": "code",
   "execution_count": null,
   "metadata": {},
   "outputs": [],
   "source": [
    "num_slices = 5\n",
    "middle_slice = 75  # Adjust as needed\n",
    "num_rows = 1\n",
    "num_cols = num_slices\n",
    "\n",
    "tissue_class_value = 0 \n",
    "tumor_class_value = 1\n",
    "\n",
    "plt.figure(figsize=(20, 5))\n",
    "\n",
    "for i in range(num_slices):\n",
    "    current_slice = middle_slice + 3 * i\n",
    "    scan_slice = scan_np[:, :, current_slice]\n",
    "    pred_slice = pred_np[:, :, current_slice]\n",
    "    truth_slice = label_np[:, :, current_slice]\n",
    "\n",
    "    correct_tissue = (pred_slice == truth_slice) & (truth_slice == tissue_class_value)\n",
    "    incorrect_tissue = (pred_slice != truth_slice) & (truth_slice == tissue_class_value)\n",
    "\n",
    "    correct_tumor = (pred_slice == truth_slice) & (truth_slice == tumor_class_value)\n",
    "    incorrect_tumor = (pred_slice != truth_slice) & (truth_slice == tumor_class_value)\n",
    "\n",
    "    overlay_tissue = dataset.create_overlay(scan_slice, correct_tissue, incorrect_tissue)\n",
    "    overlay_tumor = dataset.create_overlay(scan_slice, correct_tumor, incorrect_tumor)\n",
    "\n",
    "    plt.subplot(2, num_slices, i + 1)\n",
    "    plt.imshow(overlay_tissue)\n",
    "    plt.title(f'Tissue: Slice {current_slice}')\n",
    "    plt.axis('off')\n",
    "    \n",
    "    # Plot tumor overlay\n",
    "    plt.subplot(2, num_slices, num_slices + i + 1)\n",
    "    plt.imshow(overlay_tumor)\n",
    "    plt.title(f'Tumor: Slice {current_slice}')\n",
    "    plt.axis('off')\n",
    "\n",
    "\n",
    "plt.tight_layout()\n",
    "plt.show()"
   ]
  }
 ],
 "metadata": {
  "kernelspec": {
   "display_name": "Python 3",
   "language": "python",
   "name": "python3"
  },
  "language_info": {
   "codemirror_mode": {
    "name": "ipython",
    "version": 3
   },
   "file_extension": ".py",
   "mimetype": "text/x-python",
   "name": "python",
   "nbconvert_exporter": "python",
   "pygments_lexer": "ipython3",
   "version": "3.11.2"
  }
 },
 "nbformat": 4,
 "nbformat_minor": 2
}
