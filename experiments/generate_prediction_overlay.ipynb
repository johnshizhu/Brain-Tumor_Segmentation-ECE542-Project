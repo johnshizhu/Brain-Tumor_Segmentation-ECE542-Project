{
 "cells": [
  {
   "cell_type": "code",
   "execution_count": 1,
   "metadata": {},
   "outputs": [],
   "source": [
    "import sys\n",
    "sys.path.insert(0, '../')\n",
    "import matplotlib.pyplot as plt\n",
    "import torch\n",
    "import numpy as np\n",
    "import os\n",
    "from torch.utils.data import DataLoader, TensorDataset\n",
    "from unet.model import GeneralUNet\n",
    "from utils.data_utils import BratsDataset3D\n",
    "import plotly.graph_objects as go\n",
    "\n"
   ]
  },
  {
   "cell_type": "code",
   "execution_count": 82,
   "metadata": {},
   "outputs": [],
   "source": [
    "model_dir = None # MODEL STATE DICT FILE PATH HERE\n",
    "data_dir = None # DATA FILE PATH HERE\n",
    "data_idx = None # IDX OF INTEREST\n",
    "threshold = None # THRESHOLD PREDICTION"
   ]
  },
  {
   "cell_type": "code",
   "execution_count": 83,
   "metadata": {},
   "outputs": [],
   "source": [
    "# MODEL STRUCTURE HERE, ADJUST AS REQUIRED\n",
    "model = GeneralUNet(in_channels=4,  \n",
    "                    conv_kernel_size=3,\n",
    "                    pool_kernel_size=2,\n",
    "                    up_kernel_size=2,\n",
    "                    dropout=0.1,\n",
    "                    conv_stride=1,\n",
    "                    conv_padding=1,\n",
    "                    conv3d=True,\n",
    "                    size=4,  \n",
    "                    complex=8)  \n",
    "state_dict = torch.load(model_dir)\n",
    "model.load_state_dict(state_dict)\n",
    "model.eval()"
   ]
  },
  {
   "cell_type": "code",
   "execution_count": 85,
   "metadata": {},
   "outputs": [],
   "source": [
    "# Create Dataset\n",
    "dataset = BratsDataset3D(data_dir)\n",
    "item = dataset.__getitem__(data_idx) # Get item\n",
    "unsq_item = item[0].unsqueeze(0)\n",
    "pred = model(unsq_item)\n",
    "pred = pred.squeeze(0)"
   ]
  },
  {
   "cell_type": "code",
   "execution_count": 126,
   "metadata": {},
   "outputs": [],
   "source": [
    "label_3d = item[1].squeeze(0).detach().numpy()\n",
    "pred = (pred >= pred.max()*threshold).int()\n",
    "pred_3d = pred.squeeze(0).detach().numpy()\n",
    "\n",
    "# Calculate overlap and unique areas\n",
    "overlap = (pred_3d > 0) & (label_3d > 0)\n",
    "unique1 = (pred_3d > 0) & ~(label_3d > 0)\n",
    "unique2 = (label_3d > 0) & ~(pred_3d > 0)\n",
    "t1 = item[0][3].detach().numpy()"
   ]
  },
  {
   "cell_type": "code",
   "execution_count": null,
   "metadata": {},
   "outputs": [],
   "source": [
    "# Coordinates for unique to image1, unique to image2, and overlap\n",
    "x1, y1, z1 = np.nonzero(unique1)\n",
    "x2, y2, z2 = np.nonzero(unique2)\n",
    "xo, yo, zo = np.nonzero(overlap)\n",
    "\n",
    "trace1 = go.Scatter3d(\n",
    "    x=x1, y=y1, z=z1,\n",
    "    mode='markers',\n",
    "    marker=dict(size=3, color='blue', opacity=0.5),\n",
    "    name='Prediction'\n",
    ")\n",
    "\n",
    "trace2 = go.Scatter3d(\n",
    "    x=x2, y=y2, z=z2,\n",
    "    mode='markers',\n",
    "    marker=dict(size=3, color='green', opacity=0.5),\n",
    "    name='Label'\n",
    ")\n",
    "\n",
    "trace_overlap = go.Scatter3d(\n",
    "    x=xo, y=yo, z=zo,\n",
    "    mode='markers',\n",
    "    marker=dict(size=3, color='red', opacity=0.5),\n",
    "    name='Overlap'\n",
    ")\n",
    "\n",
    "fig = go.Figure(data=[trace1, trace2, trace_overlap])\n",
    "fig.update_layout(\n",
    "    scene=dict(\n",
    "        xaxis_title='X Axis',\n",
    "        yaxis_title='Y Axis',\n",
    "        zaxis_title='Z Axis'\n",
    "    ),\n",
    "    title=\"3D Visualization of Two Overlapping Images\"\n",
    ")\n",
    "\n",
    "fig.show()"
   ]
  },
  {
   "cell_type": "code",
   "execution_count": null,
   "metadata": {},
   "outputs": [],
   "source": []
  }
 ],
 "metadata": {
  "kernelspec": {
   "display_name": "Python 3",
   "language": "python",
   "name": "python3"
  },
  "language_info": {
   "codemirror_mode": {
    "name": "ipython",
    "version": 3
   },
   "file_extension": ".py",
   "mimetype": "text/x-python",
   "name": "python",
   "nbconvert_exporter": "python",
   "pygments_lexer": "ipython3",
   "version": "3.11.2"
  }
 },
 "nbformat": 4,
 "nbformat_minor": 2
}
