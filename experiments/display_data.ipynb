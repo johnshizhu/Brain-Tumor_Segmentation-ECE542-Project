{
 "cells": [
  {
   "cell_type": "code",
   "execution_count": 11,
   "metadata": {},
   "outputs": [],
   "source": [
    "# Data Visualization Notebook \n",
    "\n",
    "import sys\n",
    "sys.path.insert(0, '../')\n",
    "from utils.data_utils import BratsDataset3D\n",
    "import matplotlib.pyplot as plt"
   ]
  },
  {
   "cell_type": "code",
   "execution_count": 12,
   "metadata": {},
   "outputs": [],
   "source": [
    "scan_dir = None # DATA DIRECTORY HERE\n",
    "item_number = None # SCAN INDEX HERE\n",
    "slice_index = None # SLICE INDEX HERE"
   ]
  },
  {
   "cell_type": "code",
   "execution_count": null,
   "metadata": {},
   "outputs": [],
   "source": [
    "dataset = BratsDataset3D(scan_dir)"
   ]
  },
  {
   "cell_type": "code",
   "execution_count": 14,
   "metadata": {},
   "outputs": [],
   "source": [
    "mri_scan, label = dataset.__getitem__(0)\n",
    "scan1 = mri_scan[0, :, :, slice_index]\n",
    "scan2 = mri_scan[1, :, :, slice_index]\n",
    "scan3 = mri_scan[2, :, :, slice_index]\n",
    "scan4 = mri_scan[3, :, :, slice_index]\n",
    "label = label[0, :, :, slice_index]"
   ]
  },
  {
   "cell_type": "code",
   "execution_count": null,
   "metadata": {},
   "outputs": [],
   "source": [
    "fig, axs = plt.subplots(1, 5, figsize=(12, 3))  # 1 row, 5 columns, figure size of 15x3 inches\n",
    "\n",
    "# Display each image in a subplot\n",
    "axs[0].imshow(scan1, cmap='gray')\n",
    "axs[1].imshow(scan2, cmap='gray')\n",
    "axs[2].imshow(scan3, cmap='gray')\n",
    "axs[3].imshow(scan4, cmap='gray')\n",
    "axs[4].imshow(label, cmap='gray')\n",
    "\n",
    "# Display each image and set individual titles\n",
    "titles = ['T1', 'T1CE', 'T2', 'FLAIR', 'Tumor']\n",
    "images = [scan1, scan2, scan3, scan4, label]\n",
    "\n",
    "for ax, image, title in zip(axs, images, titles):\n",
    "    ax.imshow(image, cmap='gray')  # Adjust cmap if needed\n",
    "    ax.set_title(title, fontsize=20)\n",
    "    ax.axis('off')  # Hide axes\n",
    "\n",
    "plt.tight_layout()  # Adjust subplots to fit into figure area.\n",
    "plt.show()"
   ]
  },
  {
   "cell_type": "code",
   "execution_count": null,
   "metadata": {},
   "outputs": [],
   "source": []
  }
 ],
 "metadata": {
  "kernelspec": {
   "display_name": "Python 3",
   "language": "python",
   "name": "python3"
  },
  "language_info": {
   "codemirror_mode": {
    "name": "ipython",
    "version": 3
   },
   "file_extension": ".py",
   "mimetype": "text/x-python",
   "name": "python",
   "nbconvert_exporter": "python",
   "pygments_lexer": "ipython3",
   "version": "3.11.2"
  }
 },
 "nbformat": 4,
 "nbformat_minor": 2
}
