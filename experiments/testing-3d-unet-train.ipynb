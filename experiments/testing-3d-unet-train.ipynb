{
 "cells": [
  {
   "cell_type": "code",
   "execution_count": 4,
   "metadata": {},
   "outputs": [],
   "source": [
    "import sys\n",
    "sys.path.insert(0, '../')\n",
    "\n",
    "import torch\n",
    "import torch.nn as nn\n",
    "import torch.optim as optim\n",
    "from torch.utils.data import DataLoader, TensorDataset\n",
    "from unet.model import GeneralUNet"
   ]
  },
  {
   "cell_type": "code",
   "execution_count": 5,
   "metadata": {},
   "outputs": [
    {
     "name": "stdout",
     "output_type": "stream",
     "text": [
      "Using device: cuda\n"
     ]
    }
   ],
   "source": [
    "# Check if CUDA (GPU support) is available\n",
    "device = torch.device(\"cuda\" if torch.cuda.is_available() else \"cpu\")\n",
    "print(f'Using device: {device}')"
   ]
  },
  {
   "cell_type": "code",
   "execution_count": 6,
   "metadata": {},
   "outputs": [
    {
     "name": "stdout",
     "output_type": "stream",
     "text": [
      "Encoder: adding convDouble\n",
      "Adding Double Conv layer, in: 1, out: 4\n",
      "adding conv3d layer with in_channels: 1, out_channels: 4\n",
      "adding conv3d layer with in_channels: 4, out_channels: 4\n",
      "\n",
      "Encoder: adding convDouble\n",
      "Adding Double Conv layer, in: 4, out: 8\n",
      "adding conv3d layer with in_channels: 4, out_channels: 8\n",
      "adding conv3d layer with in_channels: 8, out_channels: 8\n",
      "\n",
      "Bottle neck appended, in: 8, out: 16\n",
      "\n",
      "Decoder: adding convDouble\n",
      "Adding Double Conv layer, in: 16, out: 8\n",
      "adding conv3d layer with in_channels: 16, out_channels: 8\n",
      "adding conv3d layer with in_channels: 8, out_channels: 8\n",
      "\n",
      "Decoder: adding convDouble\n",
      "Adding Double Conv layer, in: 8, out: 4\n",
      "adding conv3d layer with in_channels: 8, out_channels: 4\n",
      "adding conv3d layer with in_channels: 4, out_channels: 4\n",
      "\n",
      "added last 1x1x1 conv layer\n",
      "Available GPU Memory: 8.00 GB\n"
     ]
    }
   ],
   "source": [
    "in_channels = 1\n",
    "size = 2\n",
    "conv3d = True\n",
    "complex = 2\n",
    "\n",
    "# Create dummy Volumetric dataset\n",
    "x_dummy = torch.rand(10, in_channels, 240, 240, 155).to(device)  # Move tensor to the device (GPU if available)\n",
    "y_dummy = torch.randint(0, 2, (10, in_channels, 240, 240, 155)).float().to(device)  # Move tensor to the device\n",
    "\n",
    "dataset = TensorDataset(x_dummy, y_dummy)\n",
    "dataloader = DataLoader(dataset, batch_size=2)\n",
    "\n",
    "# Initialize the model and move it to the GPU\n",
    "model = GeneralUNet(in_channels, 3,2,2,0.1,1,1, conv3d, size, complex).to(device)\n",
    "criterion = nn.BCEWithLogitsLoss()\n",
    "optimizer = optim.Adam(model.parameters(), lr=0.001)\n",
    "\n",
    "# Check if GPU is available\n",
    "if torch.cuda.is_available():\n",
    "    # Get the available memory\n",
    "    available_memory = torch.cuda.get_device_properties(0).total_memory / (1024 ** 3)  # Total memory in GB\n",
    "    print(f\"Available GPU Memory: {available_memory:.2f} GB\")\n",
    "else:\n",
    "    print(\"GPU is not available.\")"
   ]
  },
  {
   "cell_type": "code",
   "execution_count": 7,
   "metadata": {},
   "outputs": [
    {
     "name": "stdout",
     "output_type": "stream",
     "text": [
      "21486\n",
      "21486\n"
     ]
    }
   ],
   "source": [
    "pytorch_total_params = sum(p.numel() for p in model.parameters())\n",
    "print(pytorch_total_params)\n",
    "pytorch_total_params = sum(p.numel() for p in model.parameters() if p.requires_grad)\n",
    "print(pytorch_total_params)"
   ]
  },
  {
   "cell_type": "code",
   "execution_count": 8,
   "metadata": {},
   "outputs": [
    {
     "name": "stdout",
     "output_type": "stream",
     "text": [
      "input features shape: torch.Size([2, 1, 240, 240, 155])\n",
      "Encoder Block Forward\n",
      "single conv, input shape is: torch.Size([2, 1, 240, 240, 155])\n",
      "output shape is: torch.Size([2, 4, 240, 240, 155])\n",
      "single conv, input shape is: torch.Size([2, 4, 240, 240, 155])\n",
      "output shape is: torch.Size([2, 4, 240, 240, 155])\n",
      "post_conv_features.shape: torch.Size([2, 4, 240, 240, 155])\n",
      "shape is: torch.Size([2, 4, 120, 120, 77])\n",
      "Encoder Block Forward\n",
      "single conv, input shape is: torch.Size([2, 4, 120, 120, 77])\n",
      "output shape is: torch.Size([2, 8, 120, 120, 77])\n",
      "single conv, input shape is: torch.Size([2, 8, 120, 120, 77])\n",
      "output shape is: torch.Size([2, 8, 120, 120, 77])\n",
      "post_conv_features.shape: torch.Size([2, 8, 120, 120, 77])\n",
      "shape is: torch.Size([2, 8, 60, 60, 38])\n",
      "\n",
      "Completed Encoder Block Forward Prop\n",
      "x.shape: torch.Size([2, 8, 60, 60, 38])\n",
      "skip_connection.shape is: torch.Size([2, 4, 240, 240, 155])\n",
      "skip_connection.shape is: torch.Size([2, 8, 120, 120, 77])\n",
      "Bottleneck Forward\n",
      "Decoder Block Forward\n",
      "single conv, input shape is: torch.Size([2, 16, 120, 120, 77])\n",
      "output shape is: torch.Size([2, 8, 120, 120, 77])\n",
      "single conv, input shape is: torch.Size([2, 8, 120, 120, 77])\n",
      "output shape is: torch.Size([2, 8, 120, 120, 77])\n",
      "Decoder Block Forward\n",
      "single conv, input shape is: torch.Size([2, 8, 240, 240, 155])\n",
      "output shape is: torch.Size([2, 4, 240, 240, 155])\n",
      "single conv, input shape is: torch.Size([2, 4, 240, 240, 155])\n",
      "output shape is: torch.Size([2, 4, 240, 240, 155])\n"
     ]
    },
    {
     "ename": "ValueError",
     "evalue": "Target size (torch.Size([2, 1, 240, 240, 155])) must be the same as input size (torch.Size([2, 4, 240, 240, 155]))",
     "output_type": "error",
     "traceback": [
      "\u001b[1;31m---------------------------------------------------------------------------\u001b[0m",
      "\u001b[1;31mValueError\u001b[0m                                Traceback (most recent call last)",
      "Cell \u001b[1;32mIn[8], line 7\u001b[0m\n\u001b[0;32m      5\u001b[0m optimizer\u001b[38;5;241m.\u001b[39mzero_grad()  \u001b[38;5;66;03m# Zero the gradients\u001b[39;00m\n\u001b[0;32m      6\u001b[0m output \u001b[38;5;241m=\u001b[39m model(data)  \u001b[38;5;66;03m# Forward pass: Predict\u001b[39;00m\n\u001b[1;32m----> 7\u001b[0m loss \u001b[38;5;241m=\u001b[39m \u001b[43mcriterion\u001b[49m\u001b[43m(\u001b[49m\u001b[43moutput\u001b[49m\u001b[43m,\u001b[49m\u001b[43m \u001b[49m\u001b[43mtarget\u001b[49m\u001b[43m)\u001b[49m  \u001b[38;5;66;03m# Compute loss\u001b[39;00m\n\u001b[0;32m      8\u001b[0m loss\u001b[38;5;241m.\u001b[39mbackward()  \u001b[38;5;66;03m# Backward pass: Compute gradient\u001b[39;00m\n\u001b[0;32m      9\u001b[0m optimizer\u001b[38;5;241m.\u001b[39mstep()  \u001b[38;5;66;03m# Update weights\u001b[39;00m\n",
      "File \u001b[1;32mc:\\Users\\johns\\AppData\\Local\\Programs\\Python\\Python311\\Lib\\site-packages\\torch\\nn\\modules\\module.py:1518\u001b[0m, in \u001b[0;36mModule._wrapped_call_impl\u001b[1;34m(self, *args, **kwargs)\u001b[0m\n\u001b[0;32m   1516\u001b[0m     \u001b[38;5;28;01mreturn\u001b[39;00m \u001b[38;5;28mself\u001b[39m\u001b[38;5;241m.\u001b[39m_compiled_call_impl(\u001b[38;5;241m*\u001b[39margs, \u001b[38;5;241m*\u001b[39m\u001b[38;5;241m*\u001b[39mkwargs)  \u001b[38;5;66;03m# type: ignore[misc]\u001b[39;00m\n\u001b[0;32m   1517\u001b[0m \u001b[38;5;28;01melse\u001b[39;00m:\n\u001b[1;32m-> 1518\u001b[0m     \u001b[38;5;28;01mreturn\u001b[39;00m \u001b[38;5;28;43mself\u001b[39;49m\u001b[38;5;241;43m.\u001b[39;49m\u001b[43m_call_impl\u001b[49m\u001b[43m(\u001b[49m\u001b[38;5;241;43m*\u001b[39;49m\u001b[43margs\u001b[49m\u001b[43m,\u001b[49m\u001b[43m \u001b[49m\u001b[38;5;241;43m*\u001b[39;49m\u001b[38;5;241;43m*\u001b[39;49m\u001b[43mkwargs\u001b[49m\u001b[43m)\u001b[49m\n",
      "File \u001b[1;32mc:\\Users\\johns\\AppData\\Local\\Programs\\Python\\Python311\\Lib\\site-packages\\torch\\nn\\modules\\module.py:1527\u001b[0m, in \u001b[0;36mModule._call_impl\u001b[1;34m(self, *args, **kwargs)\u001b[0m\n\u001b[0;32m   1522\u001b[0m \u001b[38;5;66;03m# If we don't have any hooks, we want to skip the rest of the logic in\u001b[39;00m\n\u001b[0;32m   1523\u001b[0m \u001b[38;5;66;03m# this function, and just call forward.\u001b[39;00m\n\u001b[0;32m   1524\u001b[0m \u001b[38;5;28;01mif\u001b[39;00m \u001b[38;5;129;01mnot\u001b[39;00m (\u001b[38;5;28mself\u001b[39m\u001b[38;5;241m.\u001b[39m_backward_hooks \u001b[38;5;129;01mor\u001b[39;00m \u001b[38;5;28mself\u001b[39m\u001b[38;5;241m.\u001b[39m_backward_pre_hooks \u001b[38;5;129;01mor\u001b[39;00m \u001b[38;5;28mself\u001b[39m\u001b[38;5;241m.\u001b[39m_forward_hooks \u001b[38;5;129;01mor\u001b[39;00m \u001b[38;5;28mself\u001b[39m\u001b[38;5;241m.\u001b[39m_forward_pre_hooks\n\u001b[0;32m   1525\u001b[0m         \u001b[38;5;129;01mor\u001b[39;00m _global_backward_pre_hooks \u001b[38;5;129;01mor\u001b[39;00m _global_backward_hooks\n\u001b[0;32m   1526\u001b[0m         \u001b[38;5;129;01mor\u001b[39;00m _global_forward_hooks \u001b[38;5;129;01mor\u001b[39;00m _global_forward_pre_hooks):\n\u001b[1;32m-> 1527\u001b[0m     \u001b[38;5;28;01mreturn\u001b[39;00m \u001b[43mforward_call\u001b[49m\u001b[43m(\u001b[49m\u001b[38;5;241;43m*\u001b[39;49m\u001b[43margs\u001b[49m\u001b[43m,\u001b[49m\u001b[43m \u001b[49m\u001b[38;5;241;43m*\u001b[39;49m\u001b[38;5;241;43m*\u001b[39;49m\u001b[43mkwargs\u001b[49m\u001b[43m)\u001b[49m\n\u001b[0;32m   1529\u001b[0m \u001b[38;5;28;01mtry\u001b[39;00m:\n\u001b[0;32m   1530\u001b[0m     result \u001b[38;5;241m=\u001b[39m \u001b[38;5;28;01mNone\u001b[39;00m\n",
      "File \u001b[1;32mc:\\Users\\johns\\AppData\\Local\\Programs\\Python\\Python311\\Lib\\site-packages\\torch\\nn\\modules\\loss.py:725\u001b[0m, in \u001b[0;36mBCEWithLogitsLoss.forward\u001b[1;34m(self, input, target)\u001b[0m\n\u001b[0;32m    724\u001b[0m \u001b[38;5;28;01mdef\u001b[39;00m \u001b[38;5;21mforward\u001b[39m(\u001b[38;5;28mself\u001b[39m, \u001b[38;5;28minput\u001b[39m: Tensor, target: Tensor) \u001b[38;5;241m-\u001b[39m\u001b[38;5;241m>\u001b[39m Tensor:\n\u001b[1;32m--> 725\u001b[0m     \u001b[38;5;28;01mreturn\u001b[39;00m \u001b[43mF\u001b[49m\u001b[38;5;241;43m.\u001b[39;49m\u001b[43mbinary_cross_entropy_with_logits\u001b[49m\u001b[43m(\u001b[49m\u001b[38;5;28;43minput\u001b[39;49m\u001b[43m,\u001b[49m\u001b[43m \u001b[49m\u001b[43mtarget\u001b[49m\u001b[43m,\u001b[49m\n\u001b[0;32m    726\u001b[0m \u001b[43m                                              \u001b[49m\u001b[38;5;28;43mself\u001b[39;49m\u001b[38;5;241;43m.\u001b[39;49m\u001b[43mweight\u001b[49m\u001b[43m,\u001b[49m\n\u001b[0;32m    727\u001b[0m \u001b[43m                                              \u001b[49m\u001b[43mpos_weight\u001b[49m\u001b[38;5;241;43m=\u001b[39;49m\u001b[38;5;28;43mself\u001b[39;49m\u001b[38;5;241;43m.\u001b[39;49m\u001b[43mpos_weight\u001b[49m\u001b[43m,\u001b[49m\n\u001b[0;32m    728\u001b[0m \u001b[43m                                              \u001b[49m\u001b[43mreduction\u001b[49m\u001b[38;5;241;43m=\u001b[39;49m\u001b[38;5;28;43mself\u001b[39;49m\u001b[38;5;241;43m.\u001b[39;49m\u001b[43mreduction\u001b[49m\u001b[43m)\u001b[49m\n",
      "File \u001b[1;32mc:\\Users\\johns\\AppData\\Local\\Programs\\Python\\Python311\\Lib\\site-packages\\torch\\nn\\functional.py:3193\u001b[0m, in \u001b[0;36mbinary_cross_entropy_with_logits\u001b[1;34m(input, target, weight, size_average, reduce, reduction, pos_weight)\u001b[0m\n\u001b[0;32m   3190\u001b[0m     reduction_enum \u001b[38;5;241m=\u001b[39m _Reduction\u001b[38;5;241m.\u001b[39mget_enum(reduction)\n\u001b[0;32m   3192\u001b[0m \u001b[38;5;28;01mif\u001b[39;00m \u001b[38;5;129;01mnot\u001b[39;00m (target\u001b[38;5;241m.\u001b[39msize() \u001b[38;5;241m==\u001b[39m \u001b[38;5;28minput\u001b[39m\u001b[38;5;241m.\u001b[39msize()):\n\u001b[1;32m-> 3193\u001b[0m     \u001b[38;5;28;01mraise\u001b[39;00m \u001b[38;5;167;01mValueError\u001b[39;00m(\u001b[38;5;124mf\u001b[39m\u001b[38;5;124m\"\u001b[39m\u001b[38;5;124mTarget size (\u001b[39m\u001b[38;5;132;01m{\u001b[39;00mtarget\u001b[38;5;241m.\u001b[39msize()\u001b[38;5;132;01m}\u001b[39;00m\u001b[38;5;124m) must be the same as input size (\u001b[39m\u001b[38;5;132;01m{\u001b[39;00m\u001b[38;5;28minput\u001b[39m\u001b[38;5;241m.\u001b[39msize()\u001b[38;5;132;01m}\u001b[39;00m\u001b[38;5;124m)\u001b[39m\u001b[38;5;124m\"\u001b[39m)\n\u001b[0;32m   3195\u001b[0m \u001b[38;5;28;01mreturn\u001b[39;00m torch\u001b[38;5;241m.\u001b[39mbinary_cross_entropy_with_logits(\u001b[38;5;28minput\u001b[39m, target, weight, pos_weight, reduction_enum)\n",
      "\u001b[1;31mValueError\u001b[0m: Target size (torch.Size([2, 1, 240, 240, 155])) must be the same as input size (torch.Size([2, 4, 240, 240, 155]))"
     ]
    }
   ],
   "source": [
    "# Training loop for one epoch\n",
    "model.train()  # Set the model to training mode\n",
    "for batch_idx, (data, target) in enumerate(dataloader):\n",
    "    data, target = data.to(device), target.to(device)  # Move data and target to device\n",
    "    optimizer.zero_grad()  # Zero the gradients\n",
    "    output = model(data)  # Forward pass: Predict\n",
    "    loss = criterion(output, target)  # Compute loss\n",
    "    loss.backward()  # Backward pass: Compute gradient\n",
    "    optimizer.step()  # Update weights\n",
    "\n",
    "    print(f'Batch {batch_idx}, Loss {loss.item()}')  # Print loss for each batch"
   ]
  },
  {
   "cell_type": "code",
   "execution_count": null,
   "metadata": {},
   "outputs": [],
   "source": []
  }
 ],
 "metadata": {
  "kernelspec": {
   "display_name": "Python 3",
   "language": "python",
   "name": "python3"
  },
  "language_info": {
   "codemirror_mode": {
    "name": "ipython",
    "version": 3
   },
   "file_extension": ".py",
   "mimetype": "text/x-python",
   "name": "python",
   "nbconvert_exporter": "python",
   "pygments_lexer": "ipython3",
   "version": "3.11.2"
  }
 },
 "nbformat": 4,
 "nbformat_minor": 2
}
